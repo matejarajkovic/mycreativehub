{
  "cells": [
    {
      "cell_type": "markdown",
      "metadata": {
        "id": "view-in-github",
        "colab_type": "text"
      },
      "source": [
        "<a href=\"https://colab.research.google.com/github/matejarajkovic/mycreativehub/blob/main/chatbot_project.ipynb\" target=\"_parent\"><img src=\"https://colab.research.google.com/assets/colab-badge.svg\" alt=\"Open In Colab\"/></a>"
      ]
    },
    {
      "cell_type": "code",
      "execution_count": 50,
      "metadata": {
        "colab": {
          "base_uri": "https://localhost:8080/"
        },
        "id": "ETsqoBGjlKP9",
        "outputId": "aee32744-f4de-4b85-c098-dc4628b4ce0d"
      },
      "outputs": [
        {
          "output_type": "stream",
          "name": "stdout",
          "text": [
            "Requirement already satisfied: pytelegrambotapi in /usr/local/lib/python3.10/dist-packages (4.12.0)\n",
            "Requirement already satisfied: requests in /usr/local/lib/python3.10/dist-packages (from pytelegrambotapi) (2.27.1)\n",
            "Requirement already satisfied: urllib3<1.27,>=1.21.1 in /usr/local/lib/python3.10/dist-packages (from requests->pytelegrambotapi) (1.26.16)\n",
            "Requirement already satisfied: certifi>=2017.4.17 in /usr/local/lib/python3.10/dist-packages (from requests->pytelegrambotapi) (2023.5.7)\n",
            "Requirement already satisfied: charset-normalizer~=2.0.0 in /usr/local/lib/python3.10/dist-packages (from requests->pytelegrambotapi) (2.0.12)\n",
            "Requirement already satisfied: idna<4,>=2.5 in /usr/local/lib/python3.10/dist-packages (from requests->pytelegrambotapi) (3.4)\n"
          ]
        }
      ],
      "source": [
        "!pip install pytelegrambotapi --upgrade"
      ]
    },
    {
      "cell_type": "code",
      "execution_count": 51,
      "metadata": {
        "colab": {
          "base_uri": "https://localhost:8080/"
        },
        "id": "UbQIDEP2sGs3",
        "outputId": "50b5c018-968c-4967-9a7d-2dfd919b529c"
      },
      "outputs": [
        {
          "output_type": "stream",
          "name": "stdout",
          "text": [
            "Requirement already satisfied: python-aiml in /usr/local/lib/python3.10/dist-packages (0.9.3)\n",
            "Requirement already satisfied: setuptools in /usr/local/lib/python3.10/dist-packages (from python-aiml) (67.7.2)\n"
          ]
        }
      ],
      "source": [
        "!pip install python-aiml"
      ]
    },
    {
      "cell_type": "code",
      "execution_count": null,
      "metadata": {
        "colab": {
          "base_uri": "https://localhost:8080/"
        },
        "id": "UFzhlVoY31Wc",
        "outputId": "4923ef1c-52b1-42d6-beb6-b88386c3e210"
      },
      "outputs": [
        {
          "output_type": "stream",
          "name": "stdout",
          "text": [
            "Loading dub-eats.aiml...done (0.00 seconds)\n"
          ]
        }
      ],
      "source": [
        "from telebot.types import Message\n",
        "import telebot\n",
        "import aiml\n",
        "\n",
        "\n",
        "bot = telebot.TeleBot(\"5827037044:AAFrY-PDhgFp3Y4oHF9DSV1J4DxcWD33U94\", parse_mode=None)\n",
        "kernel = aiml.Kernel()\n",
        "kernel.learn(\"dub-eats.aiml\")\n",
        "\n",
        "@bot.message_handler(commands=['start', 'help'])\n",
        "\n",
        "\n",
        "def send_welcome(message):\n",
        "  bot.reply_to(message, \"Hi, welcome to DubEats. Please, let me know if you need anything.\")\n",
        "\n",
        "\n",
        "#reviews = \"https://restaurants44.p.rapidapi.com/michellin/%7Bid%7*\"\n",
        "#response = \"\"\n",
        "\n",
        "#for review in reviews:\n",
        "  #response += f\"Review: {1} (Rating: {2})\\n\"\n",
        "\n",
        "  #response\n",
        "\n",
        "@bot.message_handler(func=lambda message: True)\n",
        "def echo_all(message):\n",
        "  bot_response = kernel.respond(message.text)\n",
        "  bot.reply_to(message, bot_response)\n",
        "\n",
        "#bot.leave_chat(chat_id)\n",
        "#print(\"Successfully left the chat.\")\n",
        "\n",
        "bot.infinity_polling()"
      ]
    }
  ],
  "metadata": {
    "colab": {
      "provenance": [],
      "authorship_tag": "ABX9TyONoqhhInGXkzUn71XDkJ5g",
      "include_colab_link": true
    },
    "kernelspec": {
      "display_name": "Python 3",
      "name": "python3"
    },
    "language_info": {
      "name": "python"
    }
  },
  "nbformat": 4,
  "nbformat_minor": 0
}